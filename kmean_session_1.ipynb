{
 "cells": [
  {
   "cell_type": "markdown",
   "metadata": {},
   "source": [
    "## K-Mean \n",
    "## Alaa Elsayed Mohamed Desukey"
   ]
  },
  {
   "cell_type": "code",
   "execution_count": 2,
   "metadata": {
    "id": "r8Rf64wM9PXt"
   },
   "outputs": [],
   "source": [
    "import pandas as pd \n",
    "import numpy as np\n",
    "import matplotlib.pyplot as plt"
   ]
  },
  {
   "cell_type": "code",
   "execution_count": 3,
   "metadata": {
    "colab": {
     "base_uri": "https://localhost:8080/",
     "height": 206
    },
    "id": "ELp5hhky9aRI",
    "outputId": "a2aba316-fa14-4001-a22f-a32889929c30"
   },
   "outputs": [
    {
     "data": {
      "text/html": [
       "\n",
       "  <div id=\"df-37951a90-16ce-4bf8-948e-16d816856e92\">\n",
       "    <div class=\"colab-df-container\">\n",
       "      <div>\n",
       "<style scoped>\n",
       "    .dataframe tbody tr th:only-of-type {\n",
       "        vertical-align: middle;\n",
       "    }\n",
       "\n",
       "    .dataframe tbody tr th {\n",
       "        vertical-align: top;\n",
       "    }\n",
       "\n",
       "    .dataframe thead th {\n",
       "        text-align: right;\n",
       "    }\n",
       "</style>\n",
       "<table border=\"1\" class=\"dataframe\">\n",
       "  <thead>\n",
       "    <tr style=\"text-align: right;\">\n",
       "      <th></th>\n",
       "      <th>Id</th>\n",
       "      <th>SepalLengthCm</th>\n",
       "      <th>SepalWidthCm</th>\n",
       "      <th>PetalLengthCm</th>\n",
       "      <th>PetalWidthCm</th>\n",
       "      <th>Species</th>\n",
       "    </tr>\n",
       "  </thead>\n",
       "  <tbody>\n",
       "    <tr>\n",
       "      <th>0</th>\n",
       "      <td>1</td>\n",
       "      <td>5.1</td>\n",
       "      <td>3.5</td>\n",
       "      <td>1.4</td>\n",
       "      <td>0.2</td>\n",
       "      <td>Iris-setosa</td>\n",
       "    </tr>\n",
       "    <tr>\n",
       "      <th>1</th>\n",
       "      <td>2</td>\n",
       "      <td>4.9</td>\n",
       "      <td>3.0</td>\n",
       "      <td>1.4</td>\n",
       "      <td>0.2</td>\n",
       "      <td>Iris-setosa</td>\n",
       "    </tr>\n",
       "    <tr>\n",
       "      <th>2</th>\n",
       "      <td>3</td>\n",
       "      <td>4.7</td>\n",
       "      <td>3.2</td>\n",
       "      <td>1.3</td>\n",
       "      <td>0.2</td>\n",
       "      <td>Iris-setosa</td>\n",
       "    </tr>\n",
       "    <tr>\n",
       "      <th>3</th>\n",
       "      <td>4</td>\n",
       "      <td>4.6</td>\n",
       "      <td>3.1</td>\n",
       "      <td>1.5</td>\n",
       "      <td>0.2</td>\n",
       "      <td>Iris-setosa</td>\n",
       "    </tr>\n",
       "    <tr>\n",
       "      <th>4</th>\n",
       "      <td>5</td>\n",
       "      <td>5.0</td>\n",
       "      <td>3.6</td>\n",
       "      <td>1.4</td>\n",
       "      <td>0.2</td>\n",
       "      <td>Iris-setosa</td>\n",
       "    </tr>\n",
       "  </tbody>\n",
       "</table>\n",
       "</div>\n",
       "      <button class=\"colab-df-convert\" onclick=\"convertToInteractive('df-37951a90-16ce-4bf8-948e-16d816856e92')\"\n",
       "              title=\"Convert this dataframe to an interactive table.\"\n",
       "              style=\"display:none;\">\n",
       "        \n",
       "  <svg xmlns=\"http://www.w3.org/2000/svg\" height=\"24px\"viewBox=\"0 0 24 24\"\n",
       "       width=\"24px\">\n",
       "    <path d=\"M0 0h24v24H0V0z\" fill=\"none\"/>\n",
       "    <path d=\"M18.56 5.44l.94 2.06.94-2.06 2.06-.94-2.06-.94-.94-2.06-.94 2.06-2.06.94zm-11 1L8.5 8.5l.94-2.06 2.06-.94-2.06-.94L8.5 2.5l-.94 2.06-2.06.94zm10 10l.94 2.06.94-2.06 2.06-.94-2.06-.94-.94-2.06-.94 2.06-2.06.94z\"/><path d=\"M17.41 7.96l-1.37-1.37c-.4-.4-.92-.59-1.43-.59-.52 0-1.04.2-1.43.59L10.3 9.45l-7.72 7.72c-.78.78-.78 2.05 0 2.83L4 21.41c.39.39.9.59 1.41.59.51 0 1.02-.2 1.41-.59l7.78-7.78 2.81-2.81c.8-.78.8-2.07 0-2.86zM5.41 20L4 18.59l7.72-7.72 1.47 1.35L5.41 20z\"/>\n",
       "  </svg>\n",
       "      </button>\n",
       "      \n",
       "  <style>\n",
       "    .colab-df-container {\n",
       "      display:flex;\n",
       "      flex-wrap:wrap;\n",
       "      gap: 12px;\n",
       "    }\n",
       "\n",
       "    .colab-df-convert {\n",
       "      background-color: #E8F0FE;\n",
       "      border: none;\n",
       "      border-radius: 50%;\n",
       "      cursor: pointer;\n",
       "      display: none;\n",
       "      fill: #1967D2;\n",
       "      height: 32px;\n",
       "      padding: 0 0 0 0;\n",
       "      width: 32px;\n",
       "    }\n",
       "\n",
       "    .colab-df-convert:hover {\n",
       "      background-color: #E2EBFA;\n",
       "      box-shadow: 0px 1px 2px rgba(60, 64, 67, 0.3), 0px 1px 3px 1px rgba(60, 64, 67, 0.15);\n",
       "      fill: #174EA6;\n",
       "    }\n",
       "\n",
       "    [theme=dark] .colab-df-convert {\n",
       "      background-color: #3B4455;\n",
       "      fill: #D2E3FC;\n",
       "    }\n",
       "\n",
       "    [theme=dark] .colab-df-convert:hover {\n",
       "      background-color: #434B5C;\n",
       "      box-shadow: 0px 1px 3px 1px rgba(0, 0, 0, 0.15);\n",
       "      filter: drop-shadow(0px 1px 2px rgba(0, 0, 0, 0.3));\n",
       "      fill: #FFFFFF;\n",
       "    }\n",
       "  </style>\n",
       "\n",
       "      <script>\n",
       "        const buttonEl =\n",
       "          document.querySelector('#df-37951a90-16ce-4bf8-948e-16d816856e92 button.colab-df-convert');\n",
       "        buttonEl.style.display =\n",
       "          google.colab.kernel.accessAllowed ? 'block' : 'none';\n",
       "\n",
       "        async function convertToInteractive(key) {\n",
       "          const element = document.querySelector('#df-37951a90-16ce-4bf8-948e-16d816856e92');\n",
       "          const dataTable =\n",
       "            await google.colab.kernel.invokeFunction('convertToInteractive',\n",
       "                                                     [key], {});\n",
       "          if (!dataTable) return;\n",
       "\n",
       "          const docLinkHtml = 'Like what you see? Visit the ' +\n",
       "            '<a target=\"_blank\" href=https://colab.research.google.com/notebooks/data_table.ipynb>data table notebook</a>'\n",
       "            + ' to learn more about interactive tables.';\n",
       "          element.innerHTML = '';\n",
       "          dataTable['output_type'] = 'display_data';\n",
       "          await google.colab.output.renderOutput(dataTable, element);\n",
       "          const docLink = document.createElement('div');\n",
       "          docLink.innerHTML = docLinkHtml;\n",
       "          element.appendChild(docLink);\n",
       "        }\n",
       "      </script>\n",
       "    </div>\n",
       "  </div>\n",
       "  "
      ],
      "text/plain": [
       "   Id  SepalLengthCm  SepalWidthCm  PetalLengthCm  PetalWidthCm      Species\n",
       "0   1            5.1           3.5            1.4           0.2  Iris-setosa\n",
       "1   2            4.9           3.0            1.4           0.2  Iris-setosa\n",
       "2   3            4.7           3.2            1.3           0.2  Iris-setosa\n",
       "3   4            4.6           3.1            1.5           0.2  Iris-setosa\n",
       "4   5            5.0           3.6            1.4           0.2  Iris-setosa"
      ]
     },
     "execution_count": 3,
     "metadata": {},
     "output_type": "execute_result"
    }
   ],
   "source": [
    "df=pd.read_csv(\"Iris.csv\")\n",
    "df.head()"
   ]
  },
  {
   "cell_type": "code",
   "execution_count": 4,
   "metadata": {
    "colab": {
     "base_uri": "https://localhost:8080/",
     "height": 206
    },
    "id": "6kL4dmLP9aNG",
    "outputId": "5714f0d8-978f-4663-dd36-4078ebb1411b"
   },
   "outputs": [
    {
     "data": {
      "text/html": [
       "\n",
       "  <div id=\"df-7a5c1f77-d296-4a1f-9afa-4c8ce47c2daf\">\n",
       "    <div class=\"colab-df-container\">\n",
       "      <div>\n",
       "<style scoped>\n",
       "    .dataframe tbody tr th:only-of-type {\n",
       "        vertical-align: middle;\n",
       "    }\n",
       "\n",
       "    .dataframe tbody tr th {\n",
       "        vertical-align: top;\n",
       "    }\n",
       "\n",
       "    .dataframe thead th {\n",
       "        text-align: right;\n",
       "    }\n",
       "</style>\n",
       "<table border=\"1\" class=\"dataframe\">\n",
       "  <thead>\n",
       "    <tr style=\"text-align: right;\">\n",
       "      <th></th>\n",
       "      <th>SepalLengthCm</th>\n",
       "      <th>SepalWidthCm</th>\n",
       "      <th>PetalLengthCm</th>\n",
       "      <th>PetalWidthCm</th>\n",
       "    </tr>\n",
       "  </thead>\n",
       "  <tbody>\n",
       "    <tr>\n",
       "      <th>0</th>\n",
       "      <td>5.1</td>\n",
       "      <td>3.5</td>\n",
       "      <td>1.4</td>\n",
       "      <td>0.2</td>\n",
       "    </tr>\n",
       "    <tr>\n",
       "      <th>1</th>\n",
       "      <td>4.9</td>\n",
       "      <td>3.0</td>\n",
       "      <td>1.4</td>\n",
       "      <td>0.2</td>\n",
       "    </tr>\n",
       "    <tr>\n",
       "      <th>2</th>\n",
       "      <td>4.7</td>\n",
       "      <td>3.2</td>\n",
       "      <td>1.3</td>\n",
       "      <td>0.2</td>\n",
       "    </tr>\n",
       "    <tr>\n",
       "      <th>3</th>\n",
       "      <td>4.6</td>\n",
       "      <td>3.1</td>\n",
       "      <td>1.5</td>\n",
       "      <td>0.2</td>\n",
       "    </tr>\n",
       "    <tr>\n",
       "      <th>4</th>\n",
       "      <td>5.0</td>\n",
       "      <td>3.6</td>\n",
       "      <td>1.4</td>\n",
       "      <td>0.2</td>\n",
       "    </tr>\n",
       "  </tbody>\n",
       "</table>\n",
       "</div>\n",
       "      <button class=\"colab-df-convert\" onclick=\"convertToInteractive('df-7a5c1f77-d296-4a1f-9afa-4c8ce47c2daf')\"\n",
       "              title=\"Convert this dataframe to an interactive table.\"\n",
       "              style=\"display:none;\">\n",
       "        \n",
       "  <svg xmlns=\"http://www.w3.org/2000/svg\" height=\"24px\"viewBox=\"0 0 24 24\"\n",
       "       width=\"24px\">\n",
       "    <path d=\"M0 0h24v24H0V0z\" fill=\"none\"/>\n",
       "    <path d=\"M18.56 5.44l.94 2.06.94-2.06 2.06-.94-2.06-.94-.94-2.06-.94 2.06-2.06.94zm-11 1L8.5 8.5l.94-2.06 2.06-.94-2.06-.94L8.5 2.5l-.94 2.06-2.06.94zm10 10l.94 2.06.94-2.06 2.06-.94-2.06-.94-.94-2.06-.94 2.06-2.06.94z\"/><path d=\"M17.41 7.96l-1.37-1.37c-.4-.4-.92-.59-1.43-.59-.52 0-1.04.2-1.43.59L10.3 9.45l-7.72 7.72c-.78.78-.78 2.05 0 2.83L4 21.41c.39.39.9.59 1.41.59.51 0 1.02-.2 1.41-.59l7.78-7.78 2.81-2.81c.8-.78.8-2.07 0-2.86zM5.41 20L4 18.59l7.72-7.72 1.47 1.35L5.41 20z\"/>\n",
       "  </svg>\n",
       "      </button>\n",
       "      \n",
       "  <style>\n",
       "    .colab-df-container {\n",
       "      display:flex;\n",
       "      flex-wrap:wrap;\n",
       "      gap: 12px;\n",
       "    }\n",
       "\n",
       "    .colab-df-convert {\n",
       "      background-color: #E8F0FE;\n",
       "      border: none;\n",
       "      border-radius: 50%;\n",
       "      cursor: pointer;\n",
       "      display: none;\n",
       "      fill: #1967D2;\n",
       "      height: 32px;\n",
       "      padding: 0 0 0 0;\n",
       "      width: 32px;\n",
       "    }\n",
       "\n",
       "    .colab-df-convert:hover {\n",
       "      background-color: #E2EBFA;\n",
       "      box-shadow: 0px 1px 2px rgba(60, 64, 67, 0.3), 0px 1px 3px 1px rgba(60, 64, 67, 0.15);\n",
       "      fill: #174EA6;\n",
       "    }\n",
       "\n",
       "    [theme=dark] .colab-df-convert {\n",
       "      background-color: #3B4455;\n",
       "      fill: #D2E3FC;\n",
       "    }\n",
       "\n",
       "    [theme=dark] .colab-df-convert:hover {\n",
       "      background-color: #434B5C;\n",
       "      box-shadow: 0px 1px 3px 1px rgba(0, 0, 0, 0.15);\n",
       "      filter: drop-shadow(0px 1px 2px rgba(0, 0, 0, 0.3));\n",
       "      fill: #FFFFFF;\n",
       "    }\n",
       "  </style>\n",
       "\n",
       "      <script>\n",
       "        const buttonEl =\n",
       "          document.querySelector('#df-7a5c1f77-d296-4a1f-9afa-4c8ce47c2daf button.colab-df-convert');\n",
       "        buttonEl.style.display =\n",
       "          google.colab.kernel.accessAllowed ? 'block' : 'none';\n",
       "\n",
       "        async function convertToInteractive(key) {\n",
       "          const element = document.querySelector('#df-7a5c1f77-d296-4a1f-9afa-4c8ce47c2daf');\n",
       "          const dataTable =\n",
       "            await google.colab.kernel.invokeFunction('convertToInteractive',\n",
       "                                                     [key], {});\n",
       "          if (!dataTable) return;\n",
       "\n",
       "          const docLinkHtml = 'Like what you see? Visit the ' +\n",
       "            '<a target=\"_blank\" href=https://colab.research.google.com/notebooks/data_table.ipynb>data table notebook</a>'\n",
       "            + ' to learn more about interactive tables.';\n",
       "          element.innerHTML = '';\n",
       "          dataTable['output_type'] = 'display_data';\n",
       "          await google.colab.output.renderOutput(dataTable, element);\n",
       "          const docLink = document.createElement('div');\n",
       "          docLink.innerHTML = docLinkHtml;\n",
       "          element.appendChild(docLink);\n",
       "        }\n",
       "      </script>\n",
       "    </div>\n",
       "  </div>\n",
       "  "
      ],
      "text/plain": [
       "   SepalLengthCm  SepalWidthCm  PetalLengthCm  PetalWidthCm\n",
       "0            5.1           3.5            1.4           0.2\n",
       "1            4.9           3.0            1.4           0.2\n",
       "2            4.7           3.2            1.3           0.2\n",
       "3            4.6           3.1            1.5           0.2\n",
       "4            5.0           3.6            1.4           0.2"
      ]
     },
     "execution_count": 4,
     "metadata": {},
     "output_type": "execute_result"
    }
   ],
   "source": [
    "df1 = df.iloc[:,1:-1]\n",
    "df1.head()"
   ]
  },
  {
   "cell_type": "code",
   "execution_count": 5,
   "metadata": {
    "colab": {
     "base_uri": "https://localhost:8080/"
    },
    "id": "lOTwzg0PK1Nk",
    "outputId": "ac319a1c-9f42-4f67-9daf-e3a65e5f7d29"
   },
   "outputs": [
    {
     "name": "stdout",
     "output_type": "stream",
     "text": [
      "0      5.1\n",
      "1      4.9\n",
      "2      4.7\n",
      "3      4.6\n",
      "4      5.0\n",
      "      ... \n",
      "145    6.7\n",
      "146    6.3\n",
      "147    6.5\n",
      "148    6.2\n",
      "149    5.9\n",
      "Name: SepalLengthCm, Length: 150, dtype: float64 0      3.5\n",
      "1      3.0\n",
      "2      3.2\n",
      "3      3.1\n",
      "4      3.6\n",
      "      ... \n",
      "145    3.0\n",
      "146    2.5\n",
      "147    3.0\n",
      "148    3.4\n",
      "149    3.0\n",
      "Name: SepalWidthCm, Length: 150, dtype: float64\n"
     ]
    }
   ],
   "source": [
    "x=df1.iloc[:,0]\n",
    "y=df1.iloc[:,1]\n",
    "print(x,y)"
   ]
  },
  {
   "cell_type": "code",
   "execution_count": 6,
   "metadata": {
    "colab": {
     "base_uri": "https://localhost:8080/",
     "height": 268
    },
    "id": "tvJ_yKIO9aKa",
    "outputId": "c41ce68d-1457-4be7-f325-0d76f2b5e573"
   },
   "outputs": [
    {
     "data": {
      "image/png": "[encoded data removed]",
      "text/plain": [
       "<Figure size 432x288 with 1 Axes>"
      ]
     },
     "metadata": {
      "needs_background": "light"
     },
     "output_type": "display_data"
    }
   ],
   "source": [
    "plt.scatter(x,y, c = 'b')\n",
    "plt.show()"
   ]
  },
  {
   "cell_type": "code",
   "execution_count": 7,
   "metadata": {
    "colab": {
     "base_uri": "https://localhost:8080/",
     "height": 338
    },
    "id": "JgvZE0DC9aHf",
    "outputId": "fdbd2a5f-3d83-4c47-d775-2f76dec41be7"
   },
   "outputs": [
    {
     "name": "stdout",
     "output_type": "stream",
     "text": [
      "centroids =  [[4.88242895 3.08711808]\n",
      " [4.96763456 3.60625337]\n",
      " [4.7735877  2.21546505]]\n"
     ]
    },
    {
     "data": {
      "image/png": "[encoded data removed]",
      "text/plain": [
       "<Figure size 432x288 with 1 Axes>"
      ]
     },
     "metadata": {
      "needs_background": "light"
     },
     "output_type": "display_data"
    }
   ],
   "source": [
    "# centroid\n",
    "k = 3\n",
    " \n",
    "centroids_x = np.random.uniform(min(x), max(x), size=k)\n",
    "centroids_y = np.random.uniform(min(y), max(y), size=k)\n",
    " \n",
    "centroids = np.array(list(zip(centroids_x, centroids_y)))\n",
    "print(\"centroids = \", centroids)\n",
    " \n",
    "plt.scatter(x, y, alpha=0.5)\n",
    "plt.scatter(centroids_x, centroids_y)\n",
    " \n",
    "plt.xlabel('sepal length (cm)')\n",
    "plt.ylabel('sepal width (cm)')\n",
    " \n",
    "plt.show()"
   ]
  },
  {
   "cell_type": "code",
   "execution_count": 8,
   "metadata": {
    "colab": {
     "base_uri": "https://localhost:8080/"
    },
    "id": "m-XL59en9aFM",
    "outputId": "38ec02ab-a202-4afc-c33f-946067424db3"
   },
   "outputs": [
    {
     "name": "stdout",
     "output_type": "stream",
     "text": [
      "[1. 0. 0. 0. 1. 1. 0. 1. 0. 0. 1. 1. 0. 0. 1. 1. 1. 1. 1. 1. 1. 1. 1. 0.\n",
      " 1. 0. 1. 1. 1. 0. 0. 1. 1. 1. 0. 0. 1. 0. 0. 1. 1. 2. 0. 1. 1. 0. 1. 0.\n",
      " 1. 0. 1. 1. 1. 2. 0. 0. 1. 2. 0. 0. 2. 0. 2. 0. 0. 1. 0. 0. 2. 2. 1. 0.\n",
      " 0. 0. 0. 0. 0. 0. 0. 0. 2. 2. 0. 0. 0. 1. 1. 2. 0. 2. 0. 0. 0. 2. 0. 0.\n",
      " 0. 0. 2. 0. 1. 0. 1. 0. 0. 1. 2. 0. 0. 1. 1. 0. 0. 2. 0. 1. 0. 1. 0. 2.\n",
      " 1. 0. 0. 0. 1. 1. 0. 0. 0. 1. 0. 1. 0. 0. 0. 1. 1. 0. 0. 1. 1. 1. 0. 1.\n",
      " 1. 0. 0. 0. 1. 0.]\n"
     ]
    }
   ],
   "source": [
    "sepal_length_width = np.array(list(zip(x, y)))\n",
    "# distances \n",
    "def distance(a, b):\n",
    "    one = (a[0] - b[0]) ** 2\n",
    "    two = (a[1] - b[1]) ** 2\n",
    "    distance = (one+two) ** 0.5\n",
    "    return distance\n",
    "    \n",
    "labels = np.zeros(len(df1))\n",
    "# Distances for each centroid\n",
    "distances = np.zeros(k)\n",
    "\n",
    "for i in range(len(df1)):\n",
    "    distances[0] = distance(sepal_length_width[i], centroids[0])\n",
    "    distances[1] = distance(sepal_length_width[i], centroids[1])\n",
    "    distances[2] = distance(sepal_length_width[i], centroids[2])\n",
    "    cluster = np.argmin(distances) \n",
    "    labels[i] = cluster\n",
    "print(labels)"
   ]
  },
  {
   "cell_type": "code",
   "execution_count": 9,
   "metadata": {
    "colab": {
     "base_uri": "https://localhost:8080/"
    },
    "id": "3p5uP-8x9aDZ",
    "outputId": "74b30dee-6129-4ebc-e5e6-e024a618c911"
   },
   "outputs": [
    {
     "name": "stdout",
     "output_type": "stream",
     "text": [
      "centroids_old= [[4.88242895 3.08711808]\n",
      " [4.96763456 3.60625337]\n",
      " [4.7735877  2.21546505]]\n",
      "centroids_new= [[5.81168831 2.9038961 ]\n",
      " [5.99649123 3.45614035]\n",
      " [5.45       2.34375   ]]\n"
     ]
    }
   ],
   "source": [
    "# update centeroids\n",
    "from copy import deepcopy\n",
    "centroids_old = deepcopy(centroids)\n",
    "\n",
    "for i in range(k):\n",
    "    points = []\n",
    "    for j in range(len(sepal_length_width)):\n",
    "        if labels[j] == i:\n",
    "            points.append(sepal_length_width[j])\n",
    "    centroids[i] = np.mean(points, axis=0)\n",
    "\n",
    "print(\"centroids_old=\" , centroids_old)\n",
    "print(\"centroids_new=\",centroids)"
   ]
  },
  {
   "cell_type": "code",
   "execution_count": 11,
   "metadata": {
    "colab": {
     "base_uri": "https://localhost:8080/",
     "height": 282
    },
    "id": "WQSTypg79Z9p",
    "outputId": "bf7171a1-9a68-4b4b-d127-f6235cf9c532"
   },
   "outputs": [
    {
     "data": {
      "image/png": "[encoded data removed]",
      "text/plain": [
       "<Figure size 432x288 with 1 Axes>"
      ]
     },
     "metadata": {
      "needs_background": "light"
     },
     "output_type": "display_data"
    }
   ],
   "source": [
    "error = np.zeros(3)\n",
    "error = np.zeros(3)\n",
    "error[0] = distance(centroids[0], centroids_old[0])\n",
    "error[1] = distance(centroids[1], centroids_old[1])\n",
    "error[2] = distance(centroids[2], centroids_old[2])\n",
    "\n",
    "#Assign data to nearest centroid\n",
    "while error.all() != 0:\n",
    "  for i in range(len(df1)):\n",
    "    distances[0] = distance(sepal_length_width[i], centroids[0])\n",
    "    distances[1] = distance(sepal_length_width[i], centroids[1])\n",
    "    distances[2] = distance(sepal_length_width[i], centroids[2])\n",
    "    cluster = np.argmin(distances)\n",
    "    labels[i] = cluster\n",
    "\n",
    "  centroids_old = deepcopy(centroids)\n",
    " \n",
    "  for i in range(3):\n",
    "    points = [sepal_length_width[j] for j in range(len(sepal_length_width)) if labels[j] == i]\n",
    "    centroids[i] = np.mean(points, axis=0)\n",
    " \n",
    "  # Add this again:\n",
    " \n",
    "  error[0] = distance(centroids[0], centroids_old[0])\n",
    "  error[1] = distance(centroids[1], centroids_old[1])\n",
    "  error[2] = distance(centroids[2], centroids_old[2])\n",
    "\n",
    "colors = ['r','b','y']\n",
    " \n",
    "for i in range(k):\n",
    "  points = np.array([sepal_length_width[j] for j in range(len(df1)) if labels[j] == i])\n",
    "  plt.scatter(points[:, 0], points[:, 1], c=colors[i], alpha=0.5)\n",
    "\n",
    "  plt.scatter(centroids[:, 0], centroids[:, 1], marker='o', s=150)\n",
    " \n",
    "plt.xlabel('sepal length (cm)')\n",
    "plt.ylabel('sepal width (cm)')\n",
    " \n",
    "plt.show()"
   ]
  },
  {
   "cell_type": "code",
   "execution_count": 12,
   "metadata": {
    "colab": {
     "base_uri": "https://localhost:8080/",
     "height": 295
    },
    "id": "zti49Xz7N4mZ",
    "outputId": "231f4435-9436-4068-86f9-49fc50287205"
   },
   "outputs": [
    {
     "data": {
      "image/png": "[encoded data removed]",
      "text/plain": [
       "<Figure size 432x288 with 1 Axes>"
      ]
     },
     "metadata": {
      "needs_background": "light"
     },
     "output_type": "display_data"
    }
   ],
   "source": [
    "#The elbow method is used to get the optimum value of K in K-means. \n",
    "from sklearn.cluster import KMeans\n",
    "cost_fun=[]\n",
    "k_range=range(1,10)\n",
    "for k in k_range:\n",
    "    kmeans=KMeans(n_clusters=k)\n",
    "    kmeans.fit(df1)\n",
    "    cost_fun.append(kmeans.inertia_)\n",
    "\n",
    "plt.plot(k_range,cost_fun)\n",
    "plt.title(\"Elbow Method\")\n",
    "plt.xlabel(\"number of clusters\")\n",
    "plt.ylabel(\"cost\")\n",
    "plt.show()"
   ]
  },
  {
   "cell_type": "code",
   "execution_count": 19,
   "metadata": {
    "colab": {
     "base_uri": "https://localhost:8080/",
     "height": 356
    },
    "id": "bC1xJRBcQ4bb",
    "outputId": "65039180-6a53-451d-9a08-85b0b8d90951"
   },
   "outputs": [
    {
     "name": "stdout",
     "output_type": "stream",
     "text": [
      "centroids =  [[5.45475154 2.26899843]\n",
      " [4.96859834 3.8782135 ]\n",
      " [7.30007778 4.0769009 ]\n",
      " [5.169401   3.98276504]]\n"
     ]
    },
    {
     "data": {
      "image/png": "[encoded data removed]",
      "text/plain": [
       "<Figure size 432x288 with 1 Axes>"
      ]
     },
     "metadata": {
      "needs_background": "light"
     },
     "output_type": "display_data"
    }
   ],
   "source": [
    "# centroid\n",
    "k = 4\n",
    " \n",
    "centroids_x = np.random.uniform(min(x), max(x), size=k)\n",
    "centroids_y = np.random.uniform(min(y), max(y), size=k)\n",
    " \n",
    "centroids = np.array(list(zip(centroids_x, centroids_y)))\n",
    "print(\"centroids = \", centroids)\n",
    " \n",
    "plt.scatter(x, y, alpha=0.5)\n",
    "plt.scatter(centroids_x, centroids_y)\n",
    " \n",
    "plt.xlabel('sepal length (cm)')\n",
    "plt.ylabel('sepal width (cm)')\n",
    " \n",
    "plt.show()"
   ]
  },
  {
   "cell_type": "code",
   "execution_count": 20,
   "metadata": {
    "colab": {
     "base_uri": "https://localhost:8080/"
    },
    "id": "Xr7owSM9WupG",
    "outputId": "c2954921-6ac6-49ce-9b04-818a1cb626be"
   },
   "outputs": [
    {
     "name": "stdout",
     "output_type": "stream",
     "text": [
      "[1. 1. 1. 1. 1. 3. 1. 1. 1. 1. 3. 1. 1. 1. 3. 3. 3. 1. 3. 1. 3. 1. 1. 1.\n",
      " 1. 0. 1. 1. 1. 1. 1. 3. 3. 3. 1. 1. 3. 1. 1. 1. 1. 0. 1. 1. 1. 1. 1. 1.\n",
      " 3. 1. 2. 2. 2. 0. 0. 0. 2. 0. 0. 0. 0. 0. 0. 0. 0. 2. 0. 0. 0. 0. 0. 0.\n",
      " 0. 0. 0. 2. 2. 2. 0. 0. 0. 0. 0. 0. 0. 3. 2. 0. 0. 0. 0. 0. 0. 0. 0. 0.\n",
      " 0. 0. 0. 0. 2. 0. 2. 0. 0. 2. 0. 2. 0. 2. 2. 0. 2. 0. 0. 2. 0. 2. 2. 0.\n",
      " 2. 0. 2. 0. 2. 2. 0. 0. 0. 2. 2. 2. 0. 0. 0. 2. 2. 0. 0. 2. 2. 2. 0. 2.\n",
      " 2. 2. 0. 0. 3. 0.]\n"
     ]
    }
   ],
   "source": [
    "sepal_length_width = np.array(list(zip(x, y)))\n",
    "# distances \n",
    "def distance(a, b):\n",
    "    one = (a[0] - b[0]) ** 2\n",
    "    two = (a[1] - b[1]) ** 2\n",
    "    distance = (one+two) ** 0.5\n",
    "    return distance\n",
    "    \n",
    "labels = np.zeros(len(df1))\n",
    "# Distances for each centroid\n",
    "distances = np.zeros(k)\n",
    "\n",
    "for i in range(len(df1)):\n",
    "    distances[0] = distance(sepal_length_width[i], centroids[0])\n",
    "    distances[1] = distance(sepal_length_width[i], centroids[1])\n",
    "    distances[2] = distance(sepal_length_width[i], centroids[2])\n",
    "    distances[3] = distance(sepal_length_width[i], centroids[3])\n",
    "    cluster = np.argmin(distances) \n",
    "    labels[i] = cluster\n",
    "print(labels)"
   ]
  },
  {
   "cell_type": "code",
   "execution_count": 21,
   "metadata": {
    "colab": {
     "base_uri": "https://localhost:8080/"
    },
    "id": "R0MOo3P3WuA8",
    "outputId": "b9d00234-e4f5-4992-c6a9-6e9e0fe24a66"
   },
   "outputs": [
    {
     "name": "stdout",
     "output_type": "stream",
     "text": [
      "centroids_old= [[5.45475154 2.26899843]\n",
      " [4.96859834 3.8782135 ]\n",
      " [7.30007778 4.0769009 ]\n",
      " [5.169401   3.98276504]]\n",
      "centroids_new= [[5.86515152 2.71212121]\n",
      " [4.86388889 3.32222222]\n",
      " [6.95294118 3.13823529]\n",
      " [5.56428571 3.77142857]]\n"
     ]
    }
   ],
   "source": [
    "# update centeroids\n",
    "from copy import deepcopy\n",
    "centroids_old = deepcopy(centroids)\n",
    "\n",
    "for i in range(k):\n",
    "    points = []\n",
    "    for j in range(len(sepal_length_width)):\n",
    "        if labels[j] == i:\n",
    "            points.append(sepal_length_width[j])\n",
    "    centroids[i] = np.mean(points, axis=0)\n",
    "\n",
    "print(\"centroids_old=\" , centroids_old)\n",
    "print(\"centroids_new=\",centroids)"
   ]
  },
  {
   "cell_type": "code",
   "execution_count": 22,
   "metadata": {
    "colab": {
     "base_uri": "https://localhost:8080/",
     "height": 282
    },
    "id": "MgH7ZmRPXQac",
    "outputId": "2c82218b-3f88-407b-8f7f-92e859ca94f1"
   },
   "outputs": [
    {
     "data": {
      "image/png": "[encoded data removed]",
      "text/plain": [
       "<Figure size 432x288 with 1 Axes>"
      ]
     },
     "metadata": {
      "needs_background": "light"
     },
     "output_type": "display_data"
    }
   ],
   "source": [
    "error = np.zeros(4)\n",
    "error = np.zeros(4)\n",
    "error[0] = distance(centroids[0], centroids_old[0])\n",
    "error[1] = distance(centroids[1], centroids_old[1])\n",
    "error[2] = distance(centroids[2], centroids_old[2])\n",
    "error[3] = distance(centroids[3], centroids_old[3])\n",
    "\n",
    "#Assign data to nearest centroid\n",
    "while error.all() != 0:\n",
    "  for i in range(len(df1)):\n",
    "    distances[0] = distance(sepal_length_width[i], centroids[0])\n",
    "    distances[1] = distance(sepal_length_width[i], centroids[1])\n",
    "    distances[2] = distance(sepal_length_width[i], centroids[2])\n",
    "    distances[3] = distance(sepal_length_width[i], centroids[3])\n",
    "    cluster = np.argmin(distances)\n",
    "    labels[i] = cluster\n",
    "\n",
    "  centroids_old = deepcopy(centroids)\n",
    " \n",
    "  for i in range(3):\n",
    "    points = [sepal_length_width[j] for j in range(len(sepal_length_width)) if labels[j] == i]\n",
    "    centroids[i] = np.mean(points, axis=0)\n",
    " \n",
    "  # Add this again:\n",
    " \n",
    "  error[0] = distance(centroids[0], centroids_old[0])\n",
    "  error[1] = distance(centroids[1], centroids_old[1])\n",
    "  error[2] = distance(centroids[2], centroids_old[2])\n",
    "  error[3] = distance(centroids[3], centroids_old[3])\n",
    "\n",
    "colors = ['r','c','y','g']\n",
    " \n",
    "for i in range(k):\n",
    "  points = np.array([sepal_length_width[j] for j in range(len(df1)) if labels[j] == i])\n",
    "  plt.scatter(points[:, 0], points[:, 1], c=colors[i], alpha=0.5)\n",
    "\n",
    "  plt.scatter(centroids[:, 0], centroids[:, 1], marker='o', s=150)\n",
    " \n",
    "plt.xlabel('sepal length (cm)')\n",
    "plt.ylabel('sepal width (cm)')\n",
    " \n",
    "plt.show()"
   ]
  },
  {
   "cell_type": "code",
   "execution_count": 23,
   "metadata": {
    "colab": {
     "base_uri": "https://localhost:8080/",
     "height": 375
    },
    "id": "cL3-8iJEWrXC",
    "outputId": "b9beb6ee-b415-402c-aae4-a03f434c8517"
   },
   "outputs": [
    {
     "name": "stdout",
     "output_type": "stream",
     "text": [
      "centroids =  [[7.75889172 3.46226334]\n",
      " [6.85977234 2.12247378]\n",
      " [5.14402173 2.24987952]\n",
      " [4.38855121 3.04622341]\n",
      " [7.87539127 2.3935146 ]]\n"
     ]
    },
    {
     "data": {
      "image/png": "[encoded data removed]",
      "text/plain": [
       "<Figure size 432x288 with 1 Axes>"
      ]
     },
     "metadata": {
      "needs_background": "light"
     },
     "output_type": "display_data"
    }
   ],
   "source": [
    "# centroid\n",
    "k = 5\n",
    " \n",
    "centroids_x = np.random.uniform(min(x), max(x), size=k)\n",
    "centroids_y = np.random.uniform(min(y), max(y), size=k)\n",
    " \n",
    "centroids = np.array(list(zip(centroids_x, centroids_y)))\n",
    "print(\"centroids = \", centroids)\n",
    " \n",
    "plt.scatter(x, y, alpha=0.5)\n",
    "plt.scatter(centroids_x, centroids_y)\n",
    " \n",
    "plt.xlabel('sepal length (cm)')\n",
    "plt.ylabel('sepal width (cm)')\n",
    " \n",
    "plt.show()"
   ]
  },
  {
   "cell_type": "code",
   "execution_count": 24,
   "metadata": {
    "colab": {
     "base_uri": "https://localhost:8080/"
    },
    "id": "iRqCIDwPW9K2",
    "outputId": "c4c78d40-a492-44b1-f86c-595c9a9592a2"
   },
   "outputs": [
    {
     "name": "stdout",
     "output_type": "stream",
     "text": [
      "[3. 3. 3. 3. 3. 3. 3. 3. 3. 3. 3. 3. 3. 3. 3. 3. 3. 3. 3. 3. 3. 3. 3. 3.\n",
      " 3. 3. 3. 3. 3. 3. 3. 3. 3. 3. 3. 3. 3. 3. 3. 3. 3. 2. 3. 3. 3. 3. 3. 3.\n",
      " 3. 3. 0. 1. 0. 2. 1. 2. 1. 2. 1. 2. 2. 2. 2. 1. 2. 1. 2. 2. 1. 2. 2. 1.\n",
      " 1. 1. 1. 1. 1. 1. 2. 2. 2. 2. 2. 2. 2. 2. 1. 1. 2. 2. 2. 1. 2. 2. 2. 2.\n",
      " 2. 1. 2. 2. 1. 2. 0. 1. 1. 0. 2. 0. 1. 0. 1. 1. 1. 2. 2. 1. 1. 0. 4. 2.\n",
      " 0. 2. 4. 1. 0. 0. 1. 1. 1. 0. 4. 0. 1. 1. 1. 0. 1. 1. 2. 0. 1. 0. 2. 0.\n",
      " 0. 1. 1. 1. 1. 2.]\n"
     ]
    }
   ],
   "source": [
    "sepal_length_width = np.array(list(zip(x, y)))\n",
    "# distances \n",
    "def distance(a, b):\n",
    "    one = (a[0] - b[0]) ** 2\n",
    "    two = (a[1] - b[1]) ** 2\n",
    "    distance = (one+two) ** 0.5\n",
    "    return distance\n",
    "    \n",
    "labels = np.zeros(len(df1))\n",
    "# Distances for each centroid\n",
    "distances = np.zeros(k)\n",
    "\n",
    "for i in range(len(df1)):\n",
    "    distances[0] = distance(sepal_length_width[i], centroids[0])\n",
    "    distances[1] = distance(sepal_length_width[i], centroids[1])\n",
    "    distances[2] = distance(sepal_length_width[i], centroids[2])\n",
    "    distances[3] = distance(sepal_length_width[i], centroids[3])\n",
    "    distances[4] = distance(sepal_length_width[i], centroids[4])\n",
    "    cluster = np.argmin(distances) \n",
    "    labels[i] = cluster\n",
    "print(labels)"
   ]
  },
  {
   "cell_type": "code",
   "execution_count": 25,
   "metadata": {
    "colab": {
     "base_uri": "https://localhost:8080/"
    },
    "id": "HR6eFidMXRt6",
    "outputId": "e596a592-6aaf-4618-b225-9126cb1e2211"
   },
   "outputs": [
    {
     "name": "stdout",
     "output_type": "stream",
     "text": [
      "centroids_old= [[7.75889172 3.46226334]\n",
      " [6.85977234 2.12247378]\n",
      " [5.14402173 2.24987952]\n",
      " [4.38855121 3.04622341]\n",
      " [7.87539127 2.3935146 ]]\n",
      "centroids_new= [[7.15882353 3.22352941]\n",
      " [6.4        2.9097561 ]\n",
      " [5.595      2.68      ]\n",
      " [5.01632653 3.44081633]\n",
      " [7.6        2.73333333]]\n"
     ]
    }
   ],
   "source": [
    "# update centeroids\n",
    "from copy import deepcopy\n",
    "centroids_old = deepcopy(centroids)\n",
    "\n",
    "for i in range(k):\n",
    "    points = []\n",
    "    for j in range(len(sepal_length_width)):\n",
    "        if labels[j] == i:\n",
    "            points.append(sepal_length_width[j])\n",
    "    centroids[i] = np.mean(points, axis=0)\n",
    "\n",
    "print(\"centroids_old=\" , centroids_old)\n",
    "print(\"centroids_new=\",centroids)"
   ]
  },
  {
   "cell_type": "code",
   "execution_count": 28,
   "metadata": {
    "colab": {
     "base_uri": "https://localhost:8080/",
     "height": 282
    },
    "id": "HtC9SdvsYGY6",
    "outputId": "0da526b3-00f8-4512-97a0-6a21a4ea284e"
   },
   "outputs": [
    {
     "data": {
      "image/png": "[encoded data removed]",
      "text/plain": [
       "<Figure size 432x288 with 1 Axes>"
      ]
     },
     "metadata": {
      "needs_background": "light"
     },
     "output_type": "display_data"
    }
   ],
   "source": [
    "error = np.zeros(5)\n",
    "error = np.zeros(5)\n",
    "error[0] = distance(centroids[0], centroids_old[0])\n",
    "error[1] = distance(centroids[1], centroids_old[1])\n",
    "error[2] = distance(centroids[2], centroids_old[2])\n",
    "error[3] = distance(centroids[3], centroids_old[3])\n",
    "error[4] = distance(centroids[4], centroids_old[4])\n",
    "\n",
    "#Assign data to nearest centroid\n",
    "while error.all() != 0:\n",
    "  for i in range(len(df1)):\n",
    "    distances[0] = distance(sepal_length_width[i], centroids[0])\n",
    "    distances[1] = distance(sepal_length_width[i], centroids[1])\n",
    "    distances[2] = distance(sepal_length_width[i], centroids[2])\n",
    "    distances[3] = distance(sepal_length_width[i], centroids[3])\n",
    "    distances[4] = distance(sepal_length_width[i], centroids[4])\n",
    "    cluster = np.argmin(distances)\n",
    "    labels[i] = cluster\n",
    "\n",
    "  centroids_old = deepcopy(centroids)\n",
    " \n",
    "  for i in range(3):\n",
    "    points = [sepal_length_width[j] for j in range(len(sepal_length_width)) if labels[j] == i]\n",
    "    centroids[i] = np.mean(points, axis=0)\n",
    " \n",
    "  # Add this again:\n",
    " \n",
    "  error[0] = distance(centroids[0], centroids_old[0])\n",
    "  error[1] = distance(centroids[1], centroids_old[1])\n",
    "  error[2] = distance(centroids[2], centroids_old[2])\n",
    "  error[3] = distance(centroids[3], centroids_old[3])\n",
    "  error[4] = distance(centroids[4], centroids_old[4])\n",
    "\n",
    "colors = ['r','b','y','g','c']\n",
    " \n",
    "for i in range(k):\n",
    "  points = np.array([sepal_length_width[j] for j in range(len(df1)) if labels[j] == i])\n",
    "  plt.scatter(points[:, 0], points[:, 1], c=colors[i], alpha=0.5)\n",
    "\n",
    "  plt.scatter(centroids[:, 0], centroids[:, 1], marker='o', s=150)\n",
    " \n",
    "plt.xlabel('sepal length (cm)')\n",
    "plt.ylabel('sepal width (cm)')\n",
    " \n",
    "plt.show()"
   ]
  },
  {
   "cell_type": "code",
   "execution_count": null,
   "metadata": {
    "id": "4ZWlhlRWYI4U"
   },
   "outputs": [],
   "source": []
  }
 ],
 "metadata": {
  "colab": {
   "collapsed_sections": [],
   "name": "kmean session 1.ipynb",
   "provenance": []
  },
  "kernelspec": {
   "display_name": "Python 3 (ipykernel)",
   "language": "python",
   "name": "python3"
  },
  "language_info": {
   "codemirror_mode": {
    "name": "ipython",
    "version": 3
   },
   "file_extension": ".py",
   "mimetype": "text/x-python",
   "name": "python",
   "nbconvert_exporter": "python",
   "pygments_lexer": "ipython3",
   "version": "3.10.1"
  }
 },
 "nbformat": 4,
 "nbformat_minor": 1
}
